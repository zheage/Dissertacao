{
 "cells": [
  {
   "cell_type": "markdown",
   "metadata": {},
   "source": [
    "# Bibliotecas"
   ]
  },
  {
   "cell_type": "code",
   "execution_count": 32,
   "metadata": {},
   "outputs": [],
   "source": [
    "# Técnicas de random sampling utilizadas\n",
    "from imblearn.under_sampling import RandomUnderSampler, NearMiss, TomekLinks, EditedNearestNeighbours\n",
    "from imblearn.over_sampling import RandomOverSampler, SMOTE, ADASYN, BorderlineSMOTE\n",
    "from imblearn.combine import SMOTEENN, SMOTETomek\n",
    "\n",
    "# Algoritmos de Machine Learning clássicos\n",
    "from sklearn.ensemble import RandomForestClassifier, AdaBoostClassifier, BaggingClassifier\n",
    "from xgboost import XGBClassifier\n",
    "from sklearn.tree import DecisionTreeClassifier\n",
    "from sklearn.linear_model import LogisticRegression\n",
    "\n",
    "# Algoritmos de Machine Learning modificados para lidar com dados desbalanceados\n",
    "from imblearn.ensemble import BalancedRandomForestClassifier, BalancedBaggingClassifier, EasyEnsembleClassifier, RUSBoostClassifier\n",
    "from imbens.ensemble import OverBoostClassifier, SMOTEBoostClassifier, OverBaggingClassifier, SMOTEBaggingClassifier"
   ]
  },
  {
   "cell_type": "markdown",
   "metadata": {},
   "source": [
    "# Inicialização dos Modelos a serem utilizados nessa análise"
   ]
  },
  {
   "cell_type": "code",
   "execution_count": 33,
   "metadata": {},
   "outputs": [],
   "source": [
    "tecnicas_de_random_sampling = {\n",
    "    'RandomUnderSampler': RandomUnderSampler(),\n",
    "    'RandomOverSampler': RandomOverSampler(),\n",
    "    'NearMiss-1': NearMiss(version = 1),\n",
    "    'NearMiss-2': NearMiss(version = 2),\n",
    "    'NearMiss-3': NearMiss(version = 3),\n",
    "    'TomekLinks': TomekLinks(),\n",
    "    'ENN' : EditedNearestNeighbours(),\n",
    "    'ADASYN' : ADASYN(),\n",
    "    'SMOTE' : SMOTE(),\n",
    "    'BorderlineSMOTE-1' : BorderlineSMOTE(kind = 'borderline-1'),\n",
    "    'BorderlineSMOTE-2' : BorderlineSMOTE(kind='borderline-2'),\n",
    "    'SMOTEEN' : SMOTEENN(),\n",
    "    'SMOTETomek' : SMOTETomek()\n",
    "}\n",
    "\n",
    "\n",
    "algoritmos_classicos = {\n",
    "    'DecisionTree' : DecisionTreeClassifier(),\n",
    "    'AdaBoost' : AdaBoostClassifier(),\n",
    "    'Bagging' : BaggingClassifier(),\n",
    "    'RandomForest' : RandomForestClassifier(),\n",
    "    'XGBoost' : XGBClassifier(),\n",
    "    'LogisticRegression' : LogisticRegression()\n",
    "}\n",
    "\n",
    "\n",
    "\n",
    "algoritmos_atualizados = {\n",
    "    'EasyEnsemble' : EasyEnsembleClassifier(),\n",
    "    'BalancedBaggingClassifier' : BalancedBaggingClassifier(),\n",
    "    'BalancedRandomForestClassifier' : BalancedRandomForestClassifier(),\n",
    "    'RUSBoost' : RUSBoostClassifier(),\n",
    "    'OverBoost' : OverBoostClassifier(),\n",
    "    'SMOTEBoost' : SMOTEBoostClassifier(),\n",
    "    'OverBagging' : OverBaggingClassifier(),\n",
    "    'SMOTEBagging' : SMOTEBaggingClassifier()\n",
    "}"
   ]
  }
 ],
 "metadata": {
  "kernelspec": {
   "display_name": "Python 3",
   "language": "python",
   "name": "python3"
  },
  "language_info": {
   "codemirror_mode": {
    "name": "ipython",
    "version": 3
   },
   "file_extension": ".py",
   "mimetype": "text/x-python",
   "name": "python",
   "nbconvert_exporter": "python",
   "pygments_lexer": "ipython3",
   "version": "3.12.4"
  }
 },
 "nbformat": 4,
 "nbformat_minor": 2
}
